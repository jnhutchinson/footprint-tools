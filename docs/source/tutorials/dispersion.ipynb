{
 "cells": [
  {
   "cell_type": "markdown",
   "source": [
    "# Example analysis of cleavage rate dispersion model\n",
    "Below is an example of how to load and visualize a dispersion model creates using [learn_dm](../commands/learn_dm.rst)."
   ],
   "metadata": {}
  },
  {
   "cell_type": "code",
   "execution_count": null,
   "source": [
    "import numpy as np\n",
    "import scipy.stats\n",
    "\n",
    "import matplotlib.pyplot as plt\n",
    "import matplotlib.gridspec as gridspec\n",
    "from matplotlib.ticker import MaxNLocator"
   ],
   "outputs": [],
   "metadata": {}
  },
  {
   "cell_type": "markdown",
   "source": [
    "### Load dispersion model file\n",
    "\n",
    "Here we remotely load the the dispersion model created for human regulatory T cells"
   ],
   "metadata": {}
  },
  {
   "cell_type": "code",
   "execution_count": null,
   "source": [
    "from footprint_tools.modeling import dispersion\n",
    "dm = dispersion.load_dispersion_model(\"https://resources.altius.org/~jvierstra/projects/footprinting.2020/per.dataset/hTreg-DS14702/dm.json\")"
   ],
   "outputs": [],
   "metadata": {}
  },
  {
   "cell_type": "markdown",
   "source": [
    "### Plot overall model parameters\n",
    "\n",
    "The negative binomial distrubution has two parameters: mean and variance. The dispersion model is constructed by performing a MLE fit for each predicted cleavage rate and then smoothing the parameters using a piece-wise regression. The code below plots the MLE fit paramters (blue lines) and the piece-wise regression (dashed orange)."
   ],
   "metadata": {}
  },
  {
   "cell_type": "code",
   "execution_count": null,
   "source": [
    "xx = np.arange(0, 100)\n",
    "yy = np.array([dm.fit_mu(x) for x in xx])\n",
    "\n",
    "r = np.array([dm.r[x] for x in xx])\n",
    "p = np.array([dm.p[x] for x in xx])\n",
    "mu = p*r/(1.0-p)\n",
    "\n",
    "fit_mu = np.array([dm.fit_mu(x) for x in xx])\n",
    "fit_r = np.array([dm.fit_r(x) for x in xx])\n",
    "\n",
    "fig = plt.figure()\n",
    "gs = gridspec.GridSpec(1, 2, wspace = 0.5)\n",
    "\n",
    "ax = fig.add_subplot(gs[0, 0])\n",
    "\n",
    "ax.plot(xx, mu, label = \"MLE neg. binomial fit\")\n",
    "ax.plot(xx, fit_mu, label = \"Smoothed parameters fit\", ls='dashed')\n",
    "ax.plot([0, 100], [0, 100], color = 'grey', ls = '--', zorder=-10)\n",
    "\n",
    "ax.set_xlabel(\"Expected cleavage count\")\n",
    "ax.set_ylabel(\"Mean observed cleavages\")\n",
    "\n",
    "[ax.spines[loc].set_color(\"none\") for loc in [\"top\", \"right\"]]\n",
    "ax.xaxis.set_ticks_position(\"bottom\")\n",
    "ax.xaxis.set_tick_params(direction = \"out\")\n",
    "ax.xaxis.set(major_locator = MaxNLocator(4))\n",
    "\n",
    "ax.yaxis.set_ticks_position(\"left\")\n",
    "ax.yaxis.set_tick_params(direction = \"out\")\n",
    "ax.yaxis.set(major_locator = MaxNLocator(4))\n",
    "\n",
    "ax.legend()\n",
    "\n",
    "\n",
    "ax = fig.add_subplot(gs[0, 1])\n",
    "\n",
    "ax.plot(xx[1:], 1/r[1:])\n",
    "ax.plot(xx[1:], 1/fit_r[1:], ls='dashed')\n",
    "\n",
    "ax.set_xlabel(\"Expected cleavage count\")\n",
    "ax.set_ylabel(\"1/r\")\n",
    "\n",
    "[ax.spines[loc].set_color(\"none\") for loc in [\"top\", \"right\"]]\n",
    "ax.xaxis.set_ticks_position(\"bottom\")\n",
    "ax.xaxis.set_tick_params(direction = \"out\")\n",
    "ax.xaxis.set(major_locator = MaxNLocator(4))\n",
    "\n",
    "ax.yaxis.set_ticks_position(\"left\")\n",
    "ax.yaxis.set_tick_params(direction = \"out\")\n",
    "ax.yaxis.set(major_locator = MaxNLocator(4))\n",
    "\n",
    "fig.set_size_inches(8, 3.5)\n",
    "\n",
    "plt.show()"
   ],
   "outputs": [],
   "metadata": {}
  },
  {
   "cell_type": "markdown",
   "source": [
    "### Plot fit for a predicted cleavage rate\n",
    "\n",
    "The code below plots the probability density for a single predicted cleavage rate. The negative binomial distribution shown (orange) is used in the statistical tests for cleavage deviation (lower-tail p-value) and for footprint likelihood functions (probability density function). A Poisson distrubution is additionally plotted to demonstrate overdispersion."
   ],
   "metadata": {}
  },
  {
   "cell_type": "code",
   "execution_count": null,
   "source": [
    "def plot_histogram(dm, n=25, show_poisson=True, ax=None):\n",
    "    \"\"\"Plots a density histogram of the observed cleavage counts]\n",
    "    at an expected cleavage rate (n).\n",
    "    \"\"\"\n",
    "    x=np.arange(125)\n",
    "    \n",
    "    ax.bar(x, dm.h[n,:125]/np.sum(dm.h[n,:]), width=1, color='lightgrey', label=\"Observed\")\n",
    "    \n",
    "    mu=dm.fit_mu(n)\n",
    "    r=dm.fit_r(n)\n",
    "    \n",
    "    if show_poisson:\n",
    "        y_pois=scipy.stats.poisson.pmf(x, mu=n)\n",
    "        ax.plot(x, y_pois, color=\"blue\", label=\"Poisson (lambda=%d)\" % n)\n",
    "\n",
    "    y_nbinom=scipy.stats.nbinom.pmf(x, r, r/(r+mu))\n",
    "    ax.plot(x, y_nbinom, color=\"red\", label=\"Negative binomial\")\n",
    "    \n",
    "    \n",
    "    ax.set_xlim(0, 125)\n",
    "    \n",
    "    [ax.spines[loc].set_visible(False) for loc in [\"top\", \"right\"]]\n",
    "    ax.set_xlabel(\"Observed DNase I cleavage counts\")\n",
    "    ax.set_ylabel(\"Density\")\n",
    "    \n",
    "    ax.set_title(\"Observed cleavage counts at positions with %d expected cleavages\" % n)\n",
    "    \n",
    "    ax.legend()"
   ],
   "outputs": [],
   "metadata": {}
  },
  {
   "cell_type": "code",
   "execution_count": null,
   "source": [
    "fig,ax=plt.subplots()\n",
    "plot_histogram(dm,n=35, ax=ax)\n",
    "\n",
    "plt.show()"
   ],
   "outputs": [],
   "metadata": {}
  },
  {
   "cell_type": "code",
   "execution_count": null,
   "source": [],
   "outputs": [],
   "metadata": {}
  }
 ],
 "metadata": {
  "celltoolbar": "Raw Cell Format",
  "kernelspec": {
   "display_name": "Python 3",
   "language": "python",
   "name": "python3"
  },
  "language_info": {
   "codemirror_mode": {
    "name": "ipython",
    "version": 3
   },
   "file_extension": ".py",
   "mimetype": "text/x-python",
   "name": "python",
   "nbconvert_exporter": "python",
   "pygments_lexer": "ipython3",
   "version": "3.6.4"
  }
 },
 "nbformat": 4,
 "nbformat_minor": 2
}