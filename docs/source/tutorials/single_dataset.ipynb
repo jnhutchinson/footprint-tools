{
 "cells": [
  {
   "cell_type": "markdown",
   "source": [
    "# Footprint calling and plotting of a single DHS\n",
    "\n",
    "This notebook shows an example of how call footprints on a single region and plot the results. This code recreates **Extended Data Fig. 1** from Vierstra *et al.* 2020.\n",
    "\n",
    "The plotting performed in this example relies on the python package `genome-tools`, which provides an assortment of ways to plot genomic data. You can find a short tutorial in the form of a python notebook [here](https://github.com/jvierstra/genome-tools/blob/master/examples/UsageExamples.ipynb) on the various features."
   ],
   "metadata": {}
  },
  {
   "cell_type": "code",
   "execution_count": 1,
   "source": [
    "import numpy as np\n",
    "import pandas as pd\n",
    "import scipy as sc\n",
    "import scipy.stats as stats\n",
    "\n",
    "import pysam\n",
    "\n",
    "from genome_tools import bed, genomic_interval\n",
    "from footprint_tools import cutcounts\n",
    "from footprint_tools.modeling import bias, predict, dispersion\n",
    "from footprint_tools.stats import fdr, windowing, utils\n",
    "\n",
    "import matplotlib.pyplot as plt\n",
    "import matplotlib.gridspec as gridspec\n",
    "from matplotlib.ticker import MaxNLocator"
   ],
   "outputs": [],
   "metadata": {}
  },
  {
   "cell_type": "code",
   "execution_count": 2,
   "source": [
    "# We can grab the FASTA, BAM and dispersion model files remotely with the API\n",
    "fasta_file = \"https://resources.altius.org/~jvierstra/projects/footprinting.2020/hg38.all.fa\"\n",
    "\n",
    "base_url=\"https://resources.altius.org/~jvierstra/projects/footprinting.2020/per.dataset/CD20+-DS18208/\"\n",
    "bam_file=base_url + \"reads.bam\"\n",
    "disp_model_file=base_url + \"dm.json\"\n",
    "\n",
    "!curl https://resources.altius.org/~jvierstra/projects/footprinting.2020/vierstra_et_al.6mer-model.txt -o bm.txt\n",
    "bias_model_file = \"bm.txt\" \n",
    "\n",
    "# This is the genomic region to plot data\n",
    "interval = genomic_interval('chr19', 48363826, 48364602)"
   ],
   "outputs": [
    {
     "output_type": "stream",
     "name": "stdout",
     "text": [
      "  % Total    % Received % Xferd  Average Speed   Time    Time     Time  Current\n",
      "                                 Dload  Upload   Total   Spent    Left  Speed\n",
      "100 95802  100 95802    0     0  1264k      0 --:--:-- --:--:-- --:--:-- 1264k\n"
     ]
    }
   ],
   "metadata": {}
  },
  {
   "cell_type": "markdown",
   "source": [
    "## Perform footprint detection"
   ],
   "metadata": {}
  },
  {
   "cell_type": "code",
   "execution_count": 3,
   "source": [
    "counts_reader = cutcounts.bamfile(bam_file)\n",
    "fasta_reader = pysam.FastaFile(fasta_file)\n",
    "dm = dispersion.load_dispersion_model(disp_model_file)\n",
    "bm = bias.kmer_model(bias_model_file)\n",
    "\n",
    "predictor = predict.prediction(counts_reader, fasta_reader, bm, half_win_width = 5, smoothing_half_win_width = 50, smoothing_clip = 0.01)\n",
    "(obs_counts, exp_counts, win_counts) = predictor.compute(interval)\n",
    "    \n",
    "# Compute expected counts\n",
    "# Note: windowed counts are used to generated expected counts\n",
    "# and not used directly in statistical testing\n",
    "obs = obs_counts['+'][1:] + obs_counts['-'][:-1]\n",
    "exp = exp_counts['+'][1:] + exp_counts['-'][:-1]\n",
    "win = win_counts['+'][1:] + win_counts['-'][:-1]\n",
    "\n",
    "# Per-nucleotide p-values\n",
    "pvals = dm.p_values(exp, obs)\n",
    "\n",
    "# Windowed p-values with Stouffer's Z\n",
    "winpvals_func = lambda x: windowing.stouffers_z(np.ascontiguousarray(x), 3)\n",
    "winpvals = np.array(winpvals_func(pvals))\n",
    "\n",
    "# Resample from expected distributions for emperical adjustment of p-values for multiple testing\n",
    "_, pvals_null = dm.sample(exp, 1000)\n",
    "winpvals_null = np.apply_along_axis(winpvals_func, 0, pvals_null)\n",
    "fpr = fdr.emperical_fdr(winpvals_null, winpvals)\n",
    "\n",
    "# Call footprints at 0.01 FPR\n",
    "fps = [genomic_interval(interval.chrom, interval.start+x, interval.start+y) \n",
    "    for x, y in utils.segment(np.array(fpr), 0.01, 3, decreasing=True) ]\n"
   ],
   "outputs": [],
   "metadata": {}
  },
  {
   "cell_type": "markdown",
   "source": [
    "## Plot genomic footprinting data"
   ],
   "metadata": {}
  },
  {
   "cell_type": "raw",
   "source": [
    "import matplotlib.pyplot as plt\n",
    "import matplotlib.gridspec as gridspec\n",
    "from matplotlib.ticker import MaxNLocator\n",
    "from matplotlib.collections import BrokenBarHCollection\n",
    "\n",
    "def discrete_cmap(N, base_cmap=None):\n",
    "    \"\"\"Create an N-bin discrete colormap from the specified input map\"\"\"\n",
    "\n",
    "    # Note that if base_cmap is a string or None, you can simply do\n",
    "    #    return plt.cm.get_cmap(base_cmap, N)\n",
    "    # The following works for string, None, or a colormap instance:\n",
    "\n",
    "    base = plt.cm.get_cmap(base_cmap)\n",
    "    color_list = base(np.linspace(0, 1, N))\n",
    "    cmap_name = base.name + str(N)\n",
    "    return base.from_list(cmap_name, color_list, N)\n",
    "\n",
    "import seaborn as sns"
   ],
   "metadata": {}
  },
  {
   "cell_type": "code",
   "execution_count": null,
   "source": [
    "from genome_tools.plotting import pwm, ideogram\n",
    "from genome_tools.plotting import gencode_annotation_track, continuous_data_track, segment_track\n",
    "from genome_tools.plotting.connectors import zoom_effect\n",
    "\n",
    "def make_nb_plot(e, o, dm, ax, lo = 0, hi = 125):\n",
    "    \"\"\"Plots the dispersion model negative binomial distribution\"\"\"\n",
    "    \n",
    "    xx = np.arange(lo, hi)\n",
    "    \n",
    "    mu = dm.fit_mu(e)\n",
    "    r = dm.fit_r(e)\n",
    "    p = r/(r+mu)\n",
    "\n",
    "    yy = sc.stats.nbinom.pmf(xx, r, p)\n",
    "    ax.plot(xx, yy, label = \"Expected cleavage rate\")\n",
    "    ax.fill_between(xx[:int(o)], 0, yy[:int(o)], edgecolor = 'none', label=\"Prob. observed\")\n",
    "    \n",
    "    ax.set_xlim(left = lo, right = hi)\n",
    "    \n",
    "    ax.set_xlabel(\"Cleavages\")\n",
    "    ax.set_ylabel(\"Density\")\n",
    "\n",
    "    [ax.spines[loc].set_color(\"none\") for loc in [\"top\", \"right\"]]\n",
    "    ax.xaxis.set_ticks_position(\"bottom\")\n",
    "    ax.xaxis.set_tick_params(direction = \"out\")\n",
    "    ax.xaxis.set(major_locator = MaxNLocator(4))\n",
    "    \n",
    "    ax.yaxis.set_ticks_position(\"left\")\n",
    "    ax.yaxis.set_tick_params(direction = \"out\")\n",
    "    ax.yaxis.set(major_locator = MaxNLocator(3))\n",
    "    ax.set_ylim(bottom=0)"
   ],
   "outputs": [],
   "metadata": {}
  },
  {
   "cell_type": "code",
   "execution_count": 10,
   "source": [
    "for fp in fps:\n",
    "    print(fp)"
   ],
   "outputs": [
    {
     "output_type": "stream",
     "name": "stdout",
     "text": [
      "chr19\t48363851\t48363885\n",
      "chr19\t48363926\t48363945\n",
      "chr19\t48363983\t48364004\n",
      "chr19\t48364029\t48364045\n",
      "chr19\t48364049\t48364071\n",
      "chr19\t48364094\t48364116\n",
      "chr19\t48364119\t48364128\n",
      "chr19\t48364142\t48364158\n",
      "chr19\t48364177\t48364190\n",
      "chr19\t48364239\t48364259\n",
      "chr19\t48364286\t48364305\n",
      "chr19\t48364338\t48364353\n",
      "chr19\t48364404\t48364421\n",
      "chr19\t48364451\t48364459\n",
      "chr19\t48364478\t48364483\n",
      "chr19\t48364544\t48364562\n"
     ]
    }
   ],
   "metadata": {}
  },
  {
   "cell_type": "raw",
   "source": [
    "# Positions to highlight with distribution\n",
    "pos = [278, 536]\n",
    "\n",
    "# Footprint thresholds to plot\n",
    "thresholds=[0.05, 0.01, 0.001, 0.0001]"
   ],
   "metadata": {}
  },
  {
   "cell_type": "raw",
   "source": [
    "fig = plt.figure()\n",
    "fig.set_size_inches(6, 10)\n",
    "\n",
    "gs = gridspec.GridSpec(4, 1, height_ratios=[2, 2, 1.5, 3], wspace=0.2, hspace=0.5)\n",
    "\n",
    "# Plot annotations\n",
    "\n",
    "gs_annot = gridspec.GridSpecFromSubplotSpec(1,1, subplot_spec = gs[0,:], hspace = 0)\n",
    "\n",
    "ax_genes = fig.add_subplot(gs_annot[0,:])\n",
    "\n",
    "# Gencode annotation\n",
    "gencode_file_url = \"https://resources.altius.org/~jvierstra/projects/footprinting.2020/annotations/\"\n",
    "gencode_file_url += \"gencode.v25.chr_patch_hapl_scaff.basic.annotation.gff3.gz\"\n",
    "\n",
    "trk_genes = gencode_annotation_track(interval)\n",
    "trk_genes.load_data(gencode_file_url)\n",
    "trk_genes.render(ax_genes)\n",
    "\n",
    "ax_genes.xaxis.set_visible(True)\n",
    "ax_genes.xaxis.set_ticks_position('top')\n",
    "ax_genes.spines['top'].set_color('black')\n",
    "\n",
    "# Plot observed/expected cleavages\n",
    "\n",
    "gs_cleavage = gridspec.GridSpecFromSubplotSpec(2,1, subplot_spec = gs[1,:], hspace = 0.3)\n",
    "\n",
    "cmap=discrete_cmap(4, \"YlGnBu_r\")\n",
    "\n",
    "ax_obs = fig.add_subplot(gs_cleavage[0,:])\n",
    "trk = continuous_data_track(interval, obs, fill_between=0, min=0, max=100, facecolor=cmap(0),edgecolor=cmap(0), lw=0.5, scale_bar=100)\n",
    "trk.render(ax_obs)\n",
    "\n",
    "[ax_obs.axvline(i+interval.start, color='red') for i in pos]\n",
    "ax_obs.set_ylabel(\"Observed\", rotation=0, ha=\"right\")\n",
    "\n",
    "ax_exp = fig.add_subplot(gs_cleavage[1,:])\n",
    "trk = continuous_data_track(interval, exp, fill_between=0, min=0, max=100, facecolor=cmap(1), edgecolor=cmap(1), lw=0.5)\n",
    "trk.render(ax_exp)\n",
    "\n",
    "[ax_exp.axvline(i+interval.start, color='red') for i in pos]\n",
    "ax_exp.set_ylabel(\"Expected\", rotation=0, ha=\"right\")\n",
    "\n",
    "# Plot negative binomials\n",
    "\n",
    "gs_nb = gridspec.GridSpecFromSubplotSpec(1,len(pos), subplot_spec = gs[2,:], hspace = 0, wspace=0.5)\n",
    "\n",
    "for i, j in enumerate(pos):\n",
    "    ax_nb = fig.add_subplot(gs_nb[0,i])\n",
    "    make_nb_plot(exp[j], obs[j], dm, ax_nb, hi=80)\n",
    "    if i==0:\n",
    "        ax_nb.legend(loc=9, bbox_to_anchor=[0.5, 1.5])\n",
    "\n",
    "        \n",
    "# Plot cleavage statistics and footprint calls\n",
    "\n",
    "gs_stats = gridspec.GridSpecFromSubplotSpec(3,1, subplot_spec = gs[3,:], hspace = 0.3)\n",
    "\n",
    "cmap=discrete_cmap(4, \"Reds\")\n",
    "\n",
    "ax_lnp = fig.add_subplot(gs_stats[0,:])\n",
    "trk = continuous_data_track(interval, -np.log10(pvals), fill_between=0, min=0, max=5, facecolor=cmap(2), edgecolor=cmap(2), lw=0.5)\n",
    "trk.render(ax_lnp)\n",
    "\n",
    "[ax_lnp.axvline(i+interval.start, color='k') for i in pos]\n",
    "ax_lnp.set_ylabel(\"-log10 P\", rotation=0, ha=\"right\")\n",
    "\n",
    "\n",
    "ax_winlnp = fig.add_subplot(gs_stats[1,:])\n",
    "trk = continuous_data_track(interval, -np.log10(winpvals), fill_between=0, min=0, max=10, facecolor=cmap(3), edgecolor=cmap(3), lw=0.5)\n",
    "trk.render(ax_winlnp)\n",
    "\n",
    "ax_winlnp.set_ylabel(\"Windowed -log10 P\", rotation=0, ha=\"right\")\n",
    "\n",
    "# Plot footprints\n",
    "ax_fps = fig.add_subplot(gs_stats[2,:])\n",
    "\n",
    "cmap=discrete_cmap(len(thresholds), \"RdPu_r\")\n",
    "for i, thresh in enumerate(sorted(thresholds)):\n",
    "    fps = [genomic_interval(interval.chrom, interval.start+x, interval.start+y) for x, y in segment.segment(-np.array(fpr), -thresh, 3) ]\n",
    "    starts=[fp.start for fp in fps]\n",
    "    w=[len(fp) for fp in fps]\n",
    "\n",
    "    coll = BrokenBarHCollection(zip(starts,w), (i+0.1, 0.8), facecolors=cmap(i), edgecolors='k', linewidths=0.5)\n",
    "    ax_fps.add_collection(coll)\n",
    "    \n",
    "    ax_fps.axhline(i+0.5, color='lightgrey', ls='dashed', lw=0.8, zorder=-1)\n",
    "\n",
    "ax_fps.set_xlim(interval.start, interval.end)\n",
    "ax_fps.set_ylim(0, 4)\n",
    "ax_fps.xaxis.set_visible(False)\n",
    "\n",
    "ax_fps.yaxis.set_ticks(np.arange(len(thresholds))+0.5)\n",
    "ax_fps.yaxis.set_ticklabels(sorted(thresholds))\n",
    "\n",
    "ax_fps.set_ylabel(\"Footprints (FDR)\", rotation=0, ha=\"right\")\n",
    "\n",
    "sns.despine(ax=ax_fps, bottom=True)\n",
    "\n",
    "plt.show()"
   ],
   "metadata": {}
  },
  {
   "cell_type": "markdown",
   "source": [
    "## Auto-correlation analysis of *p*-values"
   ],
   "metadata": {}
  },
  {
   "cell_type": "markdown",
   "source": [
    "The following computes the Pearson's correlations between null p-values at offsets up to 25 bp."
   ],
   "metadata": {}
  },
  {
   "cell_type": "code",
   "execution_count": 4,
   "source": [
    "m, n = pvals_null.shape\n",
    "\n",
    "ts = range(0, 26)\n",
    "\n",
    "cor_mat = np.ones((m, len(ts)), dtype = float)\n",
    "for i in range(m):\n",
    "    for t in ts[1:]:        \n",
    "        x = pvals_null[:-t, i]\n",
    "        y = pvals_null[t:,i]\n",
    "        cor_mat[i, t] = np.corrcoef(x, y)[0, 1]\n",
    "\n",
    "err = np.percentile(cor_mat, [10, 90], axis = 0)"
   ],
   "outputs": [],
   "metadata": {}
  },
  {
   "cell_type": "code",
   "execution_count": 12,
   "source": [
    "fig, ax = plt.subplots()\n",
    "\n",
    "ax.plot(ts[1:], np.mean(cor_mat, axis = 0)[1:], lw = 2, label = \"Mean correlation (r)\")\n",
    "ax.fill_between(ts[1:], err[0,1:], err[1,1:], color = \"lightgrey\", label = \"95% CI\")\n",
    "\n",
    "ax.axhline(0.0, ls = \"--\", color = 'black')\n",
    "\n",
    "ax.set_xlim(0, 26)\n",
    "ax.set_ylim(-0.4, 0.4)\n",
    "\n",
    "ax.set_xlabel(\"p-value offset (nt)\")\n",
    "ax.set_ylabel(\"Correlation (Pearson's r)\")\n",
    "\n",
    "[ax.spines[loc].set_color(\"none\") for loc in [\"top\", \"right\"]]\n",
    "\n",
    "ax.xaxis.set_ticks([1, 5, 10, 15, 20, 25])\n",
    "ax.xaxis.set_ticks_position(\"bottom\")\n",
    "ax.xaxis.set_tick_params(direction = \"out\")\n",
    "\n",
    "ax.yaxis.set_ticks_position(\"left\")\n",
    "ax.yaxis.set_tick_params(direction = \"out\")\n",
    "ax.yaxis.set(major_locator = MaxNLocator(4))\n",
    "    \n",
    "ax.legend()\n",
    "\n",
    "fig.set_size_inches(4, 2.5)\n",
    "\n",
    "plt.show()"
   ],
   "outputs": [
    {
     "output_type": "display_data",
     "data": {
      "text/plain": [
       "<Figure size 288x180 with 1 Axes>"
      ],
      "image/svg+xml": "<?xml version=\"1.0\" encoding=\"utf-8\" standalone=\"no\"?>\n<!DOCTYPE svg PUBLIC \"-//W3C//DTD SVG 1.1//EN\"\n  \"http://www.w3.org/Graphics/SVG/1.1/DTD/svg11.dtd\">\n<svg height=\"184.455469pt\" version=\"1.1\" viewBox=\"0 0 282.560937 184.455469\" width=\"282.560937pt\" xmlns=\"http://www.w3.org/2000/svg\" xmlns:xlink=\"http://www.w3.org/1999/xlink\">\n <metadata>\n  <rdf:RDF xmlns:cc=\"http://creativecommons.org/ns#\" xmlns:dc=\"http://purl.org/dc/elements/1.1/\" xmlns:rdf=\"http://www.w3.org/1999/02/22-rdf-syntax-ns#\">\n   <cc:Work>\n    <dc:type rdf:resource=\"http://purl.org/dc/dcmitype/StillImage\"/>\n    <dc:date>2021-08-14T02:06:52.717644</dc:date>\n    <dc:format>image/svg+xml</dc:format>\n    <dc:creator>\n     <cc:Agent>\n      <dc:title>Matplotlib v3.4.3, https://matplotlib.org/</dc:title>\n     </cc:Agent>\n    </dc:creator>\n   </cc:Work>\n  </rdf:RDF>\n </metadata>\n <defs>\n  <style type=\"text/css\">*{stroke-linecap:butt;stroke-linejoin:round;}</style>\n </defs>\n <g id=\"figure_1\">\n  <g id=\"patch_1\">\n   <path d=\"M 0 184.455469 \nL 282.560937 184.455469 \nL 282.560937 -0 \nL 0 -0 \nz\n\" style=\"fill:none;\"/>\n  </g>\n  <g id=\"axes_1\">\n   <g id=\"patch_2\">\n    <path d=\"M 52.160938 146.899219 \nL 275.360937 146.899219 \nL 275.360937 10.999219 \nL 52.160938 10.999219 \nz\n\" style=\"fill:#ffffff;\"/>\n   </g>\n   <g id=\"PolyCollection_1\">\n    <defs>\n     <path d=\"M 60.745553 -114.358564 \nL 60.745553 -98.519721 \nL 69.330168 -99.069691 \nL 77.914784 -98.665939 \nL 86.499399 -98.380658 \nL 95.084014 -98.119063 \nL 103.66863 -98.658222 \nL 112.253245 -98.706679 \nL 120.837861 -98.546886 \nL 129.422476 -98.469417 \nL 138.007091 -97.589083 \nL 146.591707 -99.474193 \nL 155.176322 -98.351262 \nL 163.760938 -98.011319 \nL 172.345553 -98.773914 \nL 180.930168 -98.034725 \nL 189.514784 -98.269303 \nL 198.099399 -98.210575 \nL 206.684014 -98.948244 \nL 215.26863 -98.093524 \nL 223.853245 -98.032734 \nL 232.437861 -98.567258 \nL 241.022476 -98.035891 \nL 249.607091 -98.257792 \nL 258.191707 -97.836356 \nL 266.776322 -98.690176 \nL 266.776322 -114.167858 \nL 266.776322 -114.167858 \nL 258.191707 -113.733259 \nL 249.607091 -114.186709 \nL 241.022476 -114.340921 \nL 232.437861 -114.589641 \nL 223.853245 -114.26804 \nL 215.26863 -113.552069 \nL 206.684014 -114.750358 \nL 198.099399 -114.107747 \nL 189.514784 -114.037599 \nL 180.930168 -113.809672 \nL 172.345553 -114.056321 \nL 163.760938 -114.463024 \nL 155.176322 -114.687299 \nL 146.591707 -115.506224 \nL 138.007091 -114.182985 \nL 129.422476 -114.032195 \nL 120.837861 -113.979326 \nL 112.253245 -114.538465 \nL 103.66863 -114.27873 \nL 95.084014 -114.275713 \nL 86.499399 -114.445234 \nL 77.914784 -114.275794 \nL 69.330168 -114.91827 \nL 60.745553 -114.358564 \nz\n\" id=\"m8dfe410b09\" style=\"stroke:#d3d3d3;\"/>\n    </defs>\n    <g clip-path=\"url(#pb2c948c3c0)\">\n     <use style=\"fill:#d3d3d3;stroke:#d3d3d3;\" x=\"0\" xlink:href=\"#m8dfe410b09\" y=\"184.455469\"/>\n    </g>\n   </g>\n   <g id=\"matplotlib.axis_1\">\n    <g id=\"xtick_1\">\n     <g id=\"line2d_1\">\n      <defs>\n       <path d=\"M 0 0 \nL 0 3.5 \n\" id=\"m4ab84e9375\" style=\"stroke:#000000;stroke-width:0.8;\"/>\n      </defs>\n      <g>\n       <use style=\"stroke:#000000;stroke-width:0.8;\" x=\"60.745553\" xlink:href=\"#m4ab84e9375\" y=\"146.899219\"/>\n      </g>\n     </g>\n     <g id=\"text_1\">\n      <!-- 1 -->\n      <g transform=\"translate(57.564303 161.497656)scale(0.1 -0.1)\">\n       <defs>\n        <path d=\"M 794 531 \nL 1825 531 \nL 1825 4091 \nL 703 3866 \nL 703 4441 \nL 1819 4666 \nL 2450 4666 \nL 2450 531 \nL 3481 531 \nL 3481 0 \nL 794 0 \nL 794 531 \nz\n\" id=\"DejaVuSans-31\" transform=\"scale(0.015625)\"/>\n       </defs>\n       <use xlink:href=\"#DejaVuSans-31\"/>\n      </g>\n     </g>\n    </g>\n    <g id=\"xtick_2\">\n     <g id=\"line2d_2\">\n      <g>\n       <use style=\"stroke:#000000;stroke-width:0.8;\" x=\"95.084014\" xlink:href=\"#m4ab84e9375\" y=\"146.899219\"/>\n      </g>\n     </g>\n     <g id=\"text_2\">\n      <!-- 5 -->\n      <g transform=\"translate(91.902764 161.497656)scale(0.1 -0.1)\">\n       <defs>\n        <path d=\"M 691 4666 \nL 3169 4666 \nL 3169 4134 \nL 1269 4134 \nL 1269 2991 \nQ 1406 3038 1543 3061 \nQ 1681 3084 1819 3084 \nQ 2600 3084 3056 2656 \nQ 3513 2228 3513 1497 \nQ 3513 744 3044 326 \nQ 2575 -91 1722 -91 \nQ 1428 -91 1123 -41 \nQ 819 9 494 109 \nL 494 744 \nQ 775 591 1075 516 \nQ 1375 441 1709 441 \nQ 2250 441 2565 725 \nQ 2881 1009 2881 1497 \nQ 2881 1984 2565 2268 \nQ 2250 2553 1709 2553 \nQ 1456 2553 1204 2497 \nQ 953 2441 691 2322 \nL 691 4666 \nz\n\" id=\"DejaVuSans-35\" transform=\"scale(0.015625)\"/>\n       </defs>\n       <use xlink:href=\"#DejaVuSans-35\"/>\n      </g>\n     </g>\n    </g>\n    <g id=\"xtick_3\">\n     <g id=\"line2d_3\">\n      <g>\n       <use style=\"stroke:#000000;stroke-width:0.8;\" x=\"138.007091\" xlink:href=\"#m4ab84e9375\" y=\"146.899219\"/>\n      </g>\n     </g>\n     <g id=\"text_3\">\n      <!-- 10 -->\n      <g transform=\"translate(131.644591 161.497656)scale(0.1 -0.1)\">\n       <defs>\n        <path d=\"M 2034 4250 \nQ 1547 4250 1301 3770 \nQ 1056 3291 1056 2328 \nQ 1056 1369 1301 889 \nQ 1547 409 2034 409 \nQ 2525 409 2770 889 \nQ 3016 1369 3016 2328 \nQ 3016 3291 2770 3770 \nQ 2525 4250 2034 4250 \nz\nM 2034 4750 \nQ 2819 4750 3233 4129 \nQ 3647 3509 3647 2328 \nQ 3647 1150 3233 529 \nQ 2819 -91 2034 -91 \nQ 1250 -91 836 529 \nQ 422 1150 422 2328 \nQ 422 3509 836 4129 \nQ 1250 4750 2034 4750 \nz\n\" id=\"DejaVuSans-30\" transform=\"scale(0.015625)\"/>\n       </defs>\n       <use xlink:href=\"#DejaVuSans-31\"/>\n       <use x=\"63.623047\" xlink:href=\"#DejaVuSans-30\"/>\n      </g>\n     </g>\n    </g>\n    <g id=\"xtick_4\">\n     <g id=\"line2d_4\">\n      <g>\n       <use style=\"stroke:#000000;stroke-width:0.8;\" x=\"180.930168\" xlink:href=\"#m4ab84e9375\" y=\"146.899219\"/>\n      </g>\n     </g>\n     <g id=\"text_4\">\n      <!-- 15 -->\n      <g transform=\"translate(174.567668 161.497656)scale(0.1 -0.1)\">\n       <use xlink:href=\"#DejaVuSans-31\"/>\n       <use x=\"63.623047\" xlink:href=\"#DejaVuSans-35\"/>\n      </g>\n     </g>\n    </g>\n    <g id=\"xtick_5\">\n     <g id=\"line2d_5\">\n      <g>\n       <use style=\"stroke:#000000;stroke-width:0.8;\" x=\"223.853245\" xlink:href=\"#m4ab84e9375\" y=\"146.899219\"/>\n      </g>\n     </g>\n     <g id=\"text_5\">\n      <!-- 20 -->\n      <g transform=\"translate(217.490745 161.497656)scale(0.1 -0.1)\">\n       <defs>\n        <path d=\"M 1228 531 \nL 3431 531 \nL 3431 0 \nL 469 0 \nL 469 531 \nQ 828 903 1448 1529 \nQ 2069 2156 2228 2338 \nQ 2531 2678 2651 2914 \nQ 2772 3150 2772 3378 \nQ 2772 3750 2511 3984 \nQ 2250 4219 1831 4219 \nQ 1534 4219 1204 4116 \nQ 875 4013 500 3803 \nL 500 4441 \nQ 881 4594 1212 4672 \nQ 1544 4750 1819 4750 \nQ 2544 4750 2975 4387 \nQ 3406 4025 3406 3419 \nQ 3406 3131 3298 2873 \nQ 3191 2616 2906 2266 \nQ 2828 2175 2409 1742 \nQ 1991 1309 1228 531 \nz\n\" id=\"DejaVuSans-32\" transform=\"scale(0.015625)\"/>\n       </defs>\n       <use xlink:href=\"#DejaVuSans-32\"/>\n       <use x=\"63.623047\" xlink:href=\"#DejaVuSans-30\"/>\n      </g>\n     </g>\n    </g>\n    <g id=\"xtick_6\">\n     <g id=\"line2d_6\">\n      <g>\n       <use style=\"stroke:#000000;stroke-width:0.8;\" x=\"266.776322\" xlink:href=\"#m4ab84e9375\" y=\"146.899219\"/>\n      </g>\n     </g>\n     <g id=\"text_6\">\n      <!-- 25 -->\n      <g transform=\"translate(260.413822 161.497656)scale(0.1 -0.1)\">\n       <use xlink:href=\"#DejaVuSans-32\"/>\n       <use x=\"63.623047\" xlink:href=\"#DejaVuSans-35\"/>\n      </g>\n     </g>\n    </g>\n    <g id=\"text_7\">\n     <!-- p-value offset (nt) -->\n     <g transform=\"translate(118.826563 175.175781)scale(0.1 -0.1)\">\n      <defs>\n       <path d=\"M 1159 525 \nL 1159 -1331 \nL 581 -1331 \nL 581 3500 \nL 1159 3500 \nL 1159 2969 \nQ 1341 3281 1617 3432 \nQ 1894 3584 2278 3584 \nQ 2916 3584 3314 3078 \nQ 3713 2572 3713 1747 \nQ 3713 922 3314 415 \nQ 2916 -91 2278 -91 \nQ 1894 -91 1617 61 \nQ 1341 213 1159 525 \nz\nM 3116 1747 \nQ 3116 2381 2855 2742 \nQ 2594 3103 2138 3103 \nQ 1681 3103 1420 2742 \nQ 1159 2381 1159 1747 \nQ 1159 1113 1420 752 \nQ 1681 391 2138 391 \nQ 2594 391 2855 752 \nQ 3116 1113 3116 1747 \nz\n\" id=\"DejaVuSans-70\" transform=\"scale(0.015625)\"/>\n       <path d=\"M 313 2009 \nL 1997 2009 \nL 1997 1497 \nL 313 1497 \nL 313 2009 \nz\n\" id=\"DejaVuSans-2d\" transform=\"scale(0.015625)\"/>\n       <path d=\"M 191 3500 \nL 800 3500 \nL 1894 563 \nL 2988 3500 \nL 3597 3500 \nL 2284 0 \nL 1503 0 \nL 191 3500 \nz\n\" id=\"DejaVuSans-76\" transform=\"scale(0.015625)\"/>\n       <path d=\"M 2194 1759 \nQ 1497 1759 1228 1600 \nQ 959 1441 959 1056 \nQ 959 750 1161 570 \nQ 1363 391 1709 391 \nQ 2188 391 2477 730 \nQ 2766 1069 2766 1631 \nL 2766 1759 \nL 2194 1759 \nz\nM 3341 1997 \nL 3341 0 \nL 2766 0 \nL 2766 531 \nQ 2569 213 2275 61 \nQ 1981 -91 1556 -91 \nQ 1019 -91 701 211 \nQ 384 513 384 1019 \nQ 384 1609 779 1909 \nQ 1175 2209 1959 2209 \nL 2766 2209 \nL 2766 2266 \nQ 2766 2663 2505 2880 \nQ 2244 3097 1772 3097 \nQ 1472 3097 1187 3025 \nQ 903 2953 641 2809 \nL 641 3341 \nQ 956 3463 1253 3523 \nQ 1550 3584 1831 3584 \nQ 2591 3584 2966 3190 \nQ 3341 2797 3341 1997 \nz\n\" id=\"DejaVuSans-61\" transform=\"scale(0.015625)\"/>\n       <path d=\"M 603 4863 \nL 1178 4863 \nL 1178 0 \nL 603 0 \nL 603 4863 \nz\n\" id=\"DejaVuSans-6c\" transform=\"scale(0.015625)\"/>\n       <path d=\"M 544 1381 \nL 544 3500 \nL 1119 3500 \nL 1119 1403 \nQ 1119 906 1312 657 \nQ 1506 409 1894 409 \nQ 2359 409 2629 706 \nQ 2900 1003 2900 1516 \nL 2900 3500 \nL 3475 3500 \nL 3475 0 \nL 2900 0 \nL 2900 538 \nQ 2691 219 2414 64 \nQ 2138 -91 1772 -91 \nQ 1169 -91 856 284 \nQ 544 659 544 1381 \nz\nM 1991 3584 \nL 1991 3584 \nz\n\" id=\"DejaVuSans-75\" transform=\"scale(0.015625)\"/>\n       <path d=\"M 3597 1894 \nL 3597 1613 \nL 953 1613 \nQ 991 1019 1311 708 \nQ 1631 397 2203 397 \nQ 2534 397 2845 478 \nQ 3156 559 3463 722 \nL 3463 178 \nQ 3153 47 2828 -22 \nQ 2503 -91 2169 -91 \nQ 1331 -91 842 396 \nQ 353 884 353 1716 \nQ 353 2575 817 3079 \nQ 1281 3584 2069 3584 \nQ 2775 3584 3186 3129 \nQ 3597 2675 3597 1894 \nz\nM 3022 2063 \nQ 3016 2534 2758 2815 \nQ 2500 3097 2075 3097 \nQ 1594 3097 1305 2825 \nQ 1016 2553 972 2059 \nL 3022 2063 \nz\n\" id=\"DejaVuSans-65\" transform=\"scale(0.015625)\"/>\n       <path id=\"DejaVuSans-20\" transform=\"scale(0.015625)\"/>\n       <path d=\"M 1959 3097 \nQ 1497 3097 1228 2736 \nQ 959 2375 959 1747 \nQ 959 1119 1226 758 \nQ 1494 397 1959 397 \nQ 2419 397 2687 759 \nQ 2956 1122 2956 1747 \nQ 2956 2369 2687 2733 \nQ 2419 3097 1959 3097 \nz\nM 1959 3584 \nQ 2709 3584 3137 3096 \nQ 3566 2609 3566 1747 \nQ 3566 888 3137 398 \nQ 2709 -91 1959 -91 \nQ 1206 -91 779 398 \nQ 353 888 353 1747 \nQ 353 2609 779 3096 \nQ 1206 3584 1959 3584 \nz\n\" id=\"DejaVuSans-6f\" transform=\"scale(0.015625)\"/>\n       <path d=\"M 2375 4863 \nL 2375 4384 \nL 1825 4384 \nQ 1516 4384 1395 4259 \nQ 1275 4134 1275 3809 \nL 1275 3500 \nL 2222 3500 \nL 2222 3053 \nL 1275 3053 \nL 1275 0 \nL 697 0 \nL 697 3053 \nL 147 3053 \nL 147 3500 \nL 697 3500 \nL 697 3744 \nQ 697 4328 969 4595 \nQ 1241 4863 1831 4863 \nL 2375 4863 \nz\n\" id=\"DejaVuSans-66\" transform=\"scale(0.015625)\"/>\n       <path d=\"M 2834 3397 \nL 2834 2853 \nQ 2591 2978 2328 3040 \nQ 2066 3103 1784 3103 \nQ 1356 3103 1142 2972 \nQ 928 2841 928 2578 \nQ 928 2378 1081 2264 \nQ 1234 2150 1697 2047 \nL 1894 2003 \nQ 2506 1872 2764 1633 \nQ 3022 1394 3022 966 \nQ 3022 478 2636 193 \nQ 2250 -91 1575 -91 \nQ 1294 -91 989 -36 \nQ 684 19 347 128 \nL 347 722 \nQ 666 556 975 473 \nQ 1284 391 1588 391 \nQ 1994 391 2212 530 \nQ 2431 669 2431 922 \nQ 2431 1156 2273 1281 \nQ 2116 1406 1581 1522 \nL 1381 1569 \nQ 847 1681 609 1914 \nQ 372 2147 372 2553 \nQ 372 3047 722 3315 \nQ 1072 3584 1716 3584 \nQ 2034 3584 2315 3537 \nQ 2597 3491 2834 3397 \nz\n\" id=\"DejaVuSans-73\" transform=\"scale(0.015625)\"/>\n       <path d=\"M 1172 4494 \nL 1172 3500 \nL 2356 3500 \nL 2356 3053 \nL 1172 3053 \nL 1172 1153 \nQ 1172 725 1289 603 \nQ 1406 481 1766 481 \nL 2356 481 \nL 2356 0 \nL 1766 0 \nQ 1100 0 847 248 \nQ 594 497 594 1153 \nL 594 3053 \nL 172 3053 \nL 172 3500 \nL 594 3500 \nL 594 4494 \nL 1172 4494 \nz\n\" id=\"DejaVuSans-74\" transform=\"scale(0.015625)\"/>\n       <path d=\"M 1984 4856 \nQ 1566 4138 1362 3434 \nQ 1159 2731 1159 2009 \nQ 1159 1288 1364 580 \nQ 1569 -128 1984 -844 \nL 1484 -844 \nQ 1016 -109 783 600 \nQ 550 1309 550 2009 \nQ 550 2706 781 3412 \nQ 1013 4119 1484 4856 \nL 1984 4856 \nz\n\" id=\"DejaVuSans-28\" transform=\"scale(0.015625)\"/>\n       <path d=\"M 3513 2113 \nL 3513 0 \nL 2938 0 \nL 2938 2094 \nQ 2938 2591 2744 2837 \nQ 2550 3084 2163 3084 \nQ 1697 3084 1428 2787 \nQ 1159 2491 1159 1978 \nL 1159 0 \nL 581 0 \nL 581 3500 \nL 1159 3500 \nL 1159 2956 \nQ 1366 3272 1645 3428 \nQ 1925 3584 2291 3584 \nQ 2894 3584 3203 3211 \nQ 3513 2838 3513 2113 \nz\n\" id=\"DejaVuSans-6e\" transform=\"scale(0.015625)\"/>\n       <path d=\"M 513 4856 \nL 1013 4856 \nQ 1481 4119 1714 3412 \nQ 1947 2706 1947 2009 \nQ 1947 1309 1714 600 \nQ 1481 -109 1013 -844 \nL 513 -844 \nQ 928 -128 1133 580 \nQ 1338 1288 1338 2009 \nQ 1338 2731 1133 3434 \nQ 928 4138 513 4856 \nz\n\" id=\"DejaVuSans-29\" transform=\"scale(0.015625)\"/>\n      </defs>\n      <use xlink:href=\"#DejaVuSans-70\"/>\n      <use x=\"63.476562\" xlink:href=\"#DejaVuSans-2d\"/>\n      <use x=\"96.935547\" xlink:href=\"#DejaVuSans-76\"/>\n      <use x=\"156.115234\" xlink:href=\"#DejaVuSans-61\"/>\n      <use x=\"217.394531\" xlink:href=\"#DejaVuSans-6c\"/>\n      <use x=\"245.177734\" xlink:href=\"#DejaVuSans-75\"/>\n      <use x=\"308.556641\" xlink:href=\"#DejaVuSans-65\"/>\n      <use x=\"370.080078\" xlink:href=\"#DejaVuSans-20\"/>\n      <use x=\"401.867188\" xlink:href=\"#DejaVuSans-6f\"/>\n      <use x=\"463.048828\" xlink:href=\"#DejaVuSans-66\"/>\n      <use x=\"498.253906\" xlink:href=\"#DejaVuSans-66\"/>\n      <use x=\"533.458984\" xlink:href=\"#DejaVuSans-73\"/>\n      <use x=\"585.558594\" xlink:href=\"#DejaVuSans-65\"/>\n      <use x=\"647.082031\" xlink:href=\"#DejaVuSans-74\"/>\n      <use x=\"686.291016\" xlink:href=\"#DejaVuSans-20\"/>\n      <use x=\"718.078125\" xlink:href=\"#DejaVuSans-28\"/>\n      <use x=\"757.091797\" xlink:href=\"#DejaVuSans-6e\"/>\n      <use x=\"820.470703\" xlink:href=\"#DejaVuSans-74\"/>\n      <use x=\"859.679688\" xlink:href=\"#DejaVuSans-29\"/>\n     </g>\n    </g>\n   </g>\n   <g id=\"matplotlib.axis_2\">\n    <g id=\"ytick_1\">\n     <g id=\"line2d_7\">\n      <defs>\n       <path d=\"M 0 0 \nL -3.5 0 \n\" id=\"m49aa7021df\" style=\"stroke:#000000;stroke-width:0.8;\"/>\n      </defs>\n      <g>\n       <use style=\"stroke:#000000;stroke-width:0.8;\" x=\"52.160938\" xlink:href=\"#m49aa7021df\" y=\"146.899219\"/>\n      </g>\n     </g>\n     <g id=\"text_8\">\n      <!-- −0.4 -->\n      <g transform=\"translate(20.878125 150.698437)scale(0.1 -0.1)\">\n       <defs>\n        <path d=\"M 678 2272 \nL 4684 2272 \nL 4684 1741 \nL 678 1741 \nL 678 2272 \nz\n\" id=\"DejaVuSans-2212\" transform=\"scale(0.015625)\"/>\n        <path d=\"M 684 794 \nL 1344 794 \nL 1344 0 \nL 684 0 \nL 684 794 \nz\n\" id=\"DejaVuSans-2e\" transform=\"scale(0.015625)\"/>\n        <path d=\"M 2419 4116 \nL 825 1625 \nL 2419 1625 \nL 2419 4116 \nz\nM 2253 4666 \nL 3047 4666 \nL 3047 1625 \nL 3713 1625 \nL 3713 1100 \nL 3047 1100 \nL 3047 0 \nL 2419 0 \nL 2419 1100 \nL 313 1100 \nL 313 1709 \nL 2253 4666 \nz\n\" id=\"DejaVuSans-34\" transform=\"scale(0.015625)\"/>\n       </defs>\n       <use xlink:href=\"#DejaVuSans-2212\"/>\n       <use x=\"83.789062\" xlink:href=\"#DejaVuSans-30\"/>\n       <use x=\"147.412109\" xlink:href=\"#DejaVuSans-2e\"/>\n       <use x=\"179.199219\" xlink:href=\"#DejaVuSans-34\"/>\n      </g>\n     </g>\n    </g>\n    <g id=\"ytick_2\">\n     <g id=\"line2d_8\">\n      <g>\n       <use style=\"stroke:#000000;stroke-width:0.8;\" x=\"52.160938\" xlink:href=\"#m49aa7021df\" y=\"112.924219\"/>\n      </g>\n     </g>\n     <g id=\"text_9\">\n      <!-- −0.2 -->\n      <g transform=\"translate(20.878125 116.723437)scale(0.1 -0.1)\">\n       <use xlink:href=\"#DejaVuSans-2212\"/>\n       <use x=\"83.789062\" xlink:href=\"#DejaVuSans-30\"/>\n       <use x=\"147.412109\" xlink:href=\"#DejaVuSans-2e\"/>\n       <use x=\"179.199219\" xlink:href=\"#DejaVuSans-32\"/>\n      </g>\n     </g>\n    </g>\n    <g id=\"ytick_3\">\n     <g id=\"line2d_9\">\n      <g>\n       <use style=\"stroke:#000000;stroke-width:0.8;\" x=\"52.160938\" xlink:href=\"#m49aa7021df\" y=\"78.949219\"/>\n      </g>\n     </g>\n     <g id=\"text_10\">\n      <!-- 0.0 -->\n      <g transform=\"translate(29.257812 82.748437)scale(0.1 -0.1)\">\n       <use xlink:href=\"#DejaVuSans-30\"/>\n       <use x=\"63.623047\" xlink:href=\"#DejaVuSans-2e\"/>\n       <use x=\"95.410156\" xlink:href=\"#DejaVuSans-30\"/>\n      </g>\n     </g>\n    </g>\n    <g id=\"ytick_4\">\n     <g id=\"line2d_10\">\n      <g>\n       <use style=\"stroke:#000000;stroke-width:0.8;\" x=\"52.160938\" xlink:href=\"#m49aa7021df\" y=\"44.974219\"/>\n      </g>\n     </g>\n     <g id=\"text_11\">\n      <!-- 0.2 -->\n      <g transform=\"translate(29.257812 48.773437)scale(0.1 -0.1)\">\n       <use xlink:href=\"#DejaVuSans-30\"/>\n       <use x=\"63.623047\" xlink:href=\"#DejaVuSans-2e\"/>\n       <use x=\"95.410156\" xlink:href=\"#DejaVuSans-32\"/>\n      </g>\n     </g>\n    </g>\n    <g id=\"ytick_5\">\n     <g id=\"line2d_11\">\n      <g>\n       <use style=\"stroke:#000000;stroke-width:0.8;\" x=\"52.160938\" xlink:href=\"#m49aa7021df\" y=\"10.999219\"/>\n      </g>\n     </g>\n     <g id=\"text_12\">\n      <!-- 0.4 -->\n      <g transform=\"translate(29.257812 14.798437)scale(0.1 -0.1)\">\n       <use xlink:href=\"#DejaVuSans-30\"/>\n       <use x=\"63.623047\" xlink:href=\"#DejaVuSans-2e\"/>\n       <use x=\"95.410156\" xlink:href=\"#DejaVuSans-34\"/>\n      </g>\n     </g>\n    </g>\n    <g id=\"text_13\">\n     <!-- Correlation (Pearson's r) -->\n     <g transform=\"translate(14.798437 139.494531)rotate(-90)scale(0.1 -0.1)\">\n      <defs>\n       <path d=\"M 4122 4306 \nL 4122 3641 \nQ 3803 3938 3442 4084 \nQ 3081 4231 2675 4231 \nQ 1875 4231 1450 3742 \nQ 1025 3253 1025 2328 \nQ 1025 1406 1450 917 \nQ 1875 428 2675 428 \nQ 3081 428 3442 575 \nQ 3803 722 4122 1019 \nL 4122 359 \nQ 3791 134 3420 21 \nQ 3050 -91 2638 -91 \nQ 1578 -91 968 557 \nQ 359 1206 359 2328 \nQ 359 3453 968 4101 \nQ 1578 4750 2638 4750 \nQ 3056 4750 3426 4639 \nQ 3797 4528 4122 4306 \nz\n\" id=\"DejaVuSans-43\" transform=\"scale(0.015625)\"/>\n       <path d=\"M 2631 2963 \nQ 2534 3019 2420 3045 \nQ 2306 3072 2169 3072 \nQ 1681 3072 1420 2755 \nQ 1159 2438 1159 1844 \nL 1159 0 \nL 581 0 \nL 581 3500 \nL 1159 3500 \nL 1159 2956 \nQ 1341 3275 1631 3429 \nQ 1922 3584 2338 3584 \nQ 2397 3584 2469 3576 \nQ 2541 3569 2628 3553 \nL 2631 2963 \nz\n\" id=\"DejaVuSans-72\" transform=\"scale(0.015625)\"/>\n       <path d=\"M 603 3500 \nL 1178 3500 \nL 1178 0 \nL 603 0 \nL 603 3500 \nz\nM 603 4863 \nL 1178 4863 \nL 1178 4134 \nL 603 4134 \nL 603 4863 \nz\n\" id=\"DejaVuSans-69\" transform=\"scale(0.015625)\"/>\n       <path d=\"M 1259 4147 \nL 1259 2394 \nL 2053 2394 \nQ 2494 2394 2734 2622 \nQ 2975 2850 2975 3272 \nQ 2975 3691 2734 3919 \nQ 2494 4147 2053 4147 \nL 1259 4147 \nz\nM 628 4666 \nL 2053 4666 \nQ 2838 4666 3239 4311 \nQ 3641 3956 3641 3272 \nQ 3641 2581 3239 2228 \nQ 2838 1875 2053 1875 \nL 1259 1875 \nL 1259 0 \nL 628 0 \nL 628 4666 \nz\n\" id=\"DejaVuSans-50\" transform=\"scale(0.015625)\"/>\n       <path d=\"M 1147 4666 \nL 1147 2931 \nL 616 2931 \nL 616 4666 \nL 1147 4666 \nz\n\" id=\"DejaVuSans-27\" transform=\"scale(0.015625)\"/>\n      </defs>\n      <use xlink:href=\"#DejaVuSans-43\"/>\n      <use x=\"69.824219\" xlink:href=\"#DejaVuSans-6f\"/>\n      <use x=\"131.005859\" xlink:href=\"#DejaVuSans-72\"/>\n      <use x=\"170.369141\" xlink:href=\"#DejaVuSans-72\"/>\n      <use x=\"209.232422\" xlink:href=\"#DejaVuSans-65\"/>\n      <use x=\"270.755859\" xlink:href=\"#DejaVuSans-6c\"/>\n      <use x=\"298.539062\" xlink:href=\"#DejaVuSans-61\"/>\n      <use x=\"359.818359\" xlink:href=\"#DejaVuSans-74\"/>\n      <use x=\"399.027344\" xlink:href=\"#DejaVuSans-69\"/>\n      <use x=\"426.810547\" xlink:href=\"#DejaVuSans-6f\"/>\n      <use x=\"487.992188\" xlink:href=\"#DejaVuSans-6e\"/>\n      <use x=\"551.371094\" xlink:href=\"#DejaVuSans-20\"/>\n      <use x=\"583.158203\" xlink:href=\"#DejaVuSans-28\"/>\n      <use x=\"622.171875\" xlink:href=\"#DejaVuSans-50\"/>\n      <use x=\"678.849609\" xlink:href=\"#DejaVuSans-65\"/>\n      <use x=\"740.373047\" xlink:href=\"#DejaVuSans-61\"/>\n      <use x=\"801.652344\" xlink:href=\"#DejaVuSans-72\"/>\n      <use x=\"842.765625\" xlink:href=\"#DejaVuSans-73\"/>\n      <use x=\"894.865234\" xlink:href=\"#DejaVuSans-6f\"/>\n      <use x=\"956.046875\" xlink:href=\"#DejaVuSans-6e\"/>\n      <use x=\"1019.425781\" xlink:href=\"#DejaVuSans-27\"/>\n      <use x=\"1046.916016\" xlink:href=\"#DejaVuSans-73\"/>\n      <use x=\"1099.015625\" xlink:href=\"#DejaVuSans-20\"/>\n      <use x=\"1130.802734\" xlink:href=\"#DejaVuSans-72\"/>\n      <use x=\"1171.916016\" xlink:href=\"#DejaVuSans-29\"/>\n     </g>\n    </g>\n   </g>\n   <g id=\"line2d_12\">\n    <path clip-path=\"url(#pb2c948c3c0)\" d=\"M 60.745553 77.960583 \nL 69.330168 77.336521 \nL 77.914784 78.1225 \nL 86.499399 78.253636 \nL 95.084014 78.140148 \nL 103.66863 78.074696 \nL 112.253245 77.733581 \nL 120.837861 78.299869 \nL 129.422476 78.217049 \nL 138.007091 78.229882 \nL 146.591707 76.973074 \nL 155.176322 77.886726 \nL 163.760938 78.307739 \nL 172.345553 78.066326 \nL 180.930168 78.535264 \nL 189.514784 78.398454 \nL 198.099399 78.191728 \nL 206.684014 77.923953 \nL 215.26863 78.787861 \nL 223.853245 78.326069 \nL 232.437861 78.100428 \nL 241.022476 78.091638 \nL 249.607091 78.364059 \nL 258.191707 78.741278 \nL 266.776322 77.929376 \n\" style=\"fill:none;stroke:#1f77b4;stroke-linecap:square;stroke-width:2;\"/>\n   </g>\n   <g id=\"line2d_13\">\n    <path clip-path=\"url(#pb2c948c3c0)\" d=\"M 52.160938 78.949219 \nL 275.360937 78.949219 \n\" style=\"fill:none;stroke:#000000;stroke-dasharray:5.55,2.4;stroke-dashoffset:0;stroke-width:1.5;\"/>\n   </g>\n   <g id=\"patch_3\">\n    <path d=\"M 52.160938 146.899219 \nL 52.160938 10.999219 \n\" style=\"fill:none;stroke:#000000;stroke-linecap:square;stroke-linejoin:miter;stroke-width:0.8;\"/>\n   </g>\n   <g id=\"patch_4\">\n    <path d=\"M 275.360937 146.899219 \nL 275.360937 10.999219 \n\" style=\"fill:none;\"/>\n   </g>\n   <g id=\"patch_5\">\n    <path d=\"M 52.160938 146.899219 \nL 275.360937 146.899219 \n\" style=\"fill:none;stroke:#000000;stroke-linecap:square;stroke-linejoin:miter;stroke-width:0.8;\"/>\n   </g>\n   <g id=\"patch_6\">\n    <path d=\"M 52.160938 10.999219 \nL 275.360937 10.999219 \n\" style=\"fill:none;\"/>\n   </g>\n   <g id=\"legend_1\">\n    <g id=\"patch_7\">\n     <path d=\"M 137.190625 48.355469 \nL 268.360937 48.355469 \nQ 270.360937 48.355469 270.360937 46.355469 \nL 270.360937 17.999219 \nQ 270.360937 15.999219 268.360937 15.999219 \nL 137.190625 15.999219 \nQ 135.190625 15.999219 135.190625 17.999219 \nL 135.190625 46.355469 \nQ 135.190625 48.355469 137.190625 48.355469 \nz\n\" style=\"fill:#ffffff;opacity:0.8;stroke:#cccccc;stroke-linejoin:miter;\"/>\n    </g>\n    <g id=\"line2d_14\">\n     <path d=\"M 139.190625 24.097656 \nL 159.190625 24.097656 \n\" style=\"fill:none;stroke:#1f77b4;stroke-linecap:square;stroke-width:2;\"/>\n    </g>\n    <g id=\"line2d_15\"/>\n    <g id=\"text_14\">\n     <!-- Mean correlation (r) -->\n     <g transform=\"translate(167.190625 27.597656)scale(0.1 -0.1)\">\n      <defs>\n       <path d=\"M 628 4666 \nL 1569 4666 \nL 2759 1491 \nL 3956 4666 \nL 4897 4666 \nL 4897 0 \nL 4281 0 \nL 4281 4097 \nL 3078 897 \nL 2444 897 \nL 1241 4097 \nL 1241 0 \nL 628 0 \nL 628 4666 \nz\n\" id=\"DejaVuSans-4d\" transform=\"scale(0.015625)\"/>\n       <path d=\"M 3122 3366 \nL 3122 2828 \nQ 2878 2963 2633 3030 \nQ 2388 3097 2138 3097 \nQ 1578 3097 1268 2742 \nQ 959 2388 959 1747 \nQ 959 1106 1268 751 \nQ 1578 397 2138 397 \nQ 2388 397 2633 464 \nQ 2878 531 3122 666 \nL 3122 134 \nQ 2881 22 2623 -34 \nQ 2366 -91 2075 -91 \nQ 1284 -91 818 406 \nQ 353 903 353 1747 \nQ 353 2603 823 3093 \nQ 1294 3584 2113 3584 \nQ 2378 3584 2631 3529 \nQ 2884 3475 3122 3366 \nz\n\" id=\"DejaVuSans-63\" transform=\"scale(0.015625)\"/>\n      </defs>\n      <use xlink:href=\"#DejaVuSans-4d\"/>\n      <use x=\"86.279297\" xlink:href=\"#DejaVuSans-65\"/>\n      <use x=\"147.802734\" xlink:href=\"#DejaVuSans-61\"/>\n      <use x=\"209.082031\" xlink:href=\"#DejaVuSans-6e\"/>\n      <use x=\"272.460938\" xlink:href=\"#DejaVuSans-20\"/>\n      <use x=\"304.248047\" xlink:href=\"#DejaVuSans-63\"/>\n      <use x=\"359.228516\" xlink:href=\"#DejaVuSans-6f\"/>\n      <use x=\"420.410156\" xlink:href=\"#DejaVuSans-72\"/>\n      <use x=\"459.773438\" xlink:href=\"#DejaVuSans-72\"/>\n      <use x=\"498.636719\" xlink:href=\"#DejaVuSans-65\"/>\n      <use x=\"560.160156\" xlink:href=\"#DejaVuSans-6c\"/>\n      <use x=\"587.943359\" xlink:href=\"#DejaVuSans-61\"/>\n      <use x=\"649.222656\" xlink:href=\"#DejaVuSans-74\"/>\n      <use x=\"688.431641\" xlink:href=\"#DejaVuSans-69\"/>\n      <use x=\"716.214844\" xlink:href=\"#DejaVuSans-6f\"/>\n      <use x=\"777.396484\" xlink:href=\"#DejaVuSans-6e\"/>\n      <use x=\"840.775391\" xlink:href=\"#DejaVuSans-20\"/>\n      <use x=\"872.5625\" xlink:href=\"#DejaVuSans-28\"/>\n      <use x=\"911.576172\" xlink:href=\"#DejaVuSans-72\"/>\n      <use x=\"952.689453\" xlink:href=\"#DejaVuSans-29\"/>\n     </g>\n    </g>\n    <g id=\"patch_8\">\n     <path d=\"M 139.190625 42.275781 \nL 159.190625 42.275781 \nL 159.190625 35.275781 \nL 139.190625 35.275781 \nz\n\" style=\"fill:#d3d3d3;stroke:#d3d3d3;stroke-linejoin:miter;\"/>\n    </g>\n    <g id=\"text_15\">\n     <!-- 95% CI -->\n     <g transform=\"translate(167.190625 42.275781)scale(0.1 -0.1)\">\n      <defs>\n       <path d=\"M 703 97 \nL 703 672 \nQ 941 559 1184 500 \nQ 1428 441 1663 441 \nQ 2288 441 2617 861 \nQ 2947 1281 2994 2138 \nQ 2813 1869 2534 1725 \nQ 2256 1581 1919 1581 \nQ 1219 1581 811 2004 \nQ 403 2428 403 3163 \nQ 403 3881 828 4315 \nQ 1253 4750 1959 4750 \nQ 2769 4750 3195 4129 \nQ 3622 3509 3622 2328 \nQ 3622 1225 3098 567 \nQ 2575 -91 1691 -91 \nQ 1453 -91 1209 -44 \nQ 966 3 703 97 \nz\nM 1959 2075 \nQ 2384 2075 2632 2365 \nQ 2881 2656 2881 3163 \nQ 2881 3666 2632 3958 \nQ 2384 4250 1959 4250 \nQ 1534 4250 1286 3958 \nQ 1038 3666 1038 3163 \nQ 1038 2656 1286 2365 \nQ 1534 2075 1959 2075 \nz\n\" id=\"DejaVuSans-39\" transform=\"scale(0.015625)\"/>\n       <path d=\"M 4653 2053 \nQ 4381 2053 4226 1822 \nQ 4072 1591 4072 1178 \nQ 4072 772 4226 539 \nQ 4381 306 4653 306 \nQ 4919 306 5073 539 \nQ 5228 772 5228 1178 \nQ 5228 1588 5073 1820 \nQ 4919 2053 4653 2053 \nz\nM 4653 2450 \nQ 5147 2450 5437 2106 \nQ 5728 1763 5728 1178 \nQ 5728 594 5436 251 \nQ 5144 -91 4653 -91 \nQ 4153 -91 3862 251 \nQ 3572 594 3572 1178 \nQ 3572 1766 3864 2108 \nQ 4156 2450 4653 2450 \nz\nM 1428 4353 \nQ 1159 4353 1004 4120 \nQ 850 3888 850 3481 \nQ 850 3069 1003 2837 \nQ 1156 2606 1428 2606 \nQ 1700 2606 1854 2837 \nQ 2009 3069 2009 3481 \nQ 2009 3884 1853 4118 \nQ 1697 4353 1428 4353 \nz\nM 4250 4750 \nL 4750 4750 \nL 1831 -91 \nL 1331 -91 \nL 4250 4750 \nz\nM 1428 4750 \nQ 1922 4750 2215 4408 \nQ 2509 4066 2509 3481 \nQ 2509 2891 2217 2550 \nQ 1925 2209 1428 2209 \nQ 931 2209 642 2551 \nQ 353 2894 353 3481 \nQ 353 4063 643 4406 \nQ 934 4750 1428 4750 \nz\n\" id=\"DejaVuSans-25\" transform=\"scale(0.015625)\"/>\n       <path d=\"M 628 4666 \nL 1259 4666 \nL 1259 0 \nL 628 0 \nL 628 4666 \nz\n\" id=\"DejaVuSans-49\" transform=\"scale(0.015625)\"/>\n      </defs>\n      <use xlink:href=\"#DejaVuSans-39\"/>\n      <use x=\"63.623047\" xlink:href=\"#DejaVuSans-35\"/>\n      <use x=\"127.246094\" xlink:href=\"#DejaVuSans-25\"/>\n      <use x=\"222.265625\" xlink:href=\"#DejaVuSans-20\"/>\n      <use x=\"254.052734\" xlink:href=\"#DejaVuSans-43\"/>\n      <use x=\"323.876953\" xlink:href=\"#DejaVuSans-49\"/>\n     </g>\n    </g>\n   </g>\n  </g>\n </g>\n <defs>\n  <clipPath id=\"pb2c948c3c0\">\n   <rect height=\"135.9\" width=\"223.2\" x=\"52.160938\" y=\"10.999219\"/>\n  </clipPath>\n </defs>\n</svg>\n",
      "image/png": "[encoded data removed]"
     },
     "metadata": {
      "needs_background": "light"
     }
    }
   ],
   "metadata": {}
  },
  {
   "cell_type": "markdown",
   "source": [
    "## Plot obserbved and null *p*-value distributions"
   ],
   "metadata": {}
  },
  {
   "cell_type": "code",
   "execution_count": null,
   "source": [
    "fig = plt.figure()\n",
    "fig.set_size_inches(3, 6)\n",
    "\n",
    "gs = gridspec.GridSpec(3, 1, hspace=0.4)\n",
    "\n",
    "ax = fig.add_subplot(gs[0, 0])\n",
    "ax.hist(winpvals, bins = np.arange(0, 1.05, 0.05), lw = 0, facecolor = \"tomato\", density = True)\n",
    "ax.set_ylim(bottom = 0, top = 7.5)\n",
    "\n",
    "ax.set_xlabel(\"Windowed p-value (observed)\")\n",
    "ax.set_ylabel(\"Density\")\n",
    "\n",
    "[ax.spines[loc].set_color('none') for loc in [\"right\", \"top\"]]\n",
    "ax.xaxis.set(ticks_position = 'bottom')\n",
    "ax.xaxis.set_tick_params(direction = \"out\")\n",
    "\n",
    "ax.yaxis.set(ticks_position = 'left', major_locator = MaxNLocator(4))\n",
    "ax.yaxis.set_tick_params(direction = \"out\")\n",
    "\n",
    "ax.set_ylim(bottom = 0, top = 7.5)\n",
    "\n",
    "ax = fig.add_subplot(gs[1, 0])\n",
    "ax.hist(winpvals_null[:,1], bins = np.arange(0, 1.05, 0.05), lw = 0, facecolor = \"mediumpurple\", density = True)\n",
    "#ax.hist(winpvals_null, bins = np.arange(0, 1.05, 0.05), lw = 0, facecolor = \"green\", normed = True)\n",
    "ax.set_ylim(bottom = 0, top = 7.5)\n",
    "\n",
    "ax.set_xlabel(\"Windowed p-value (resampled null)\")\n",
    "ax.set_ylabel(\"Density\")\n",
    "\n",
    "[ax.spines[loc].set_color('none') for loc in [\"right\", \"top\"]]\n",
    "ax.xaxis.set(ticks_position = 'bottom')\n",
    "ax.xaxis.set_tick_params(direction = \"out\")\n",
    "\n",
    "ax.yaxis.set(ticks_position = 'left', major_locator = MaxNLocator(4))\n",
    "ax.yaxis.set_tick_params(direction = \"out\")\n",
    "\n",
    "ax.margins(x = 0.025)\n",
    "\n",
    "ax = fig.add_subplot(gs[2, 0])\n",
    "ax.plot(np.sort(fpr), lw = 3)\n",
    "\n",
    "[ax.spines[loc].set_color('none') for loc in [\"right\", \"top\"]]\n",
    "ax.xaxis.set(ticks_position = 'bottom')\n",
    "ax.xaxis.set_tick_params(direction = \"out\")\n",
    "\n",
    "ax.yaxis.set(ticks_position = 'left', ticks = [ 0.0, 0.25, 0.5, 0.75, 1.0])\n",
    "ax.yaxis.set_tick_params(direction = \"out\")\n",
    "\n",
    "ax.margins(x = 0.025)\n",
    "\n",
    "ax.set_xlabel(\"Nucleotides sorted by p-value\")\n",
    "ax.set_ylabel(\"False positive rate\")\n",
    "\n",
    "plt.show()"
   ],
   "outputs": [],
   "metadata": {}
  }
 ],
 "metadata": {
  "kernelspec": {
   "name": "python3",
   "display_name": "Python 3.9.6 64-bit ('footprint-tools': conda)"
  },
  "language_info": {
   "codemirror_mode": {
    "name": "ipython",
    "version": 3
   },
   "file_extension": ".py",
   "mimetype": "text/x-python",
   "name": "python",
   "nbconvert_exporter": "python",
   "pygments_lexer": "ipython3",
   "version": "3.9.6"
  },
  "interpreter": {
   "hash": "d4f27ed677737a58456a0d2a231f0e9b6844e15d367f7dcae3b31f074d2983d6"
  }
 },
 "nbformat": 4,
 "nbformat_minor": 2
}